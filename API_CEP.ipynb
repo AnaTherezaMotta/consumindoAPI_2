{
  "nbformat": 4,
  "nbformat_minor": 0,
  "metadata": {
    "colab": {
      "provenance": [],
      "collapsed_sections": []
    },
    "kernelspec": {
      "name": "python3",
      "display_name": "Python 3"
    },
    "language_info": {
      "name": "python"
    }
  },
  "cells": [
    {
      "cell_type": "code",
      "execution_count": 14,
      "metadata": {
        "colab": {
          "base_uri": "https://localhost:8080/"
        },
        "id": "4QYSbus9UM2t",
        "outputId": "5fcc0bc9-cf25-4fa7-fb77-83fb515b95b4"
      },
      "outputs": [
        {
          "output_type": "stream",
          "name": "stdout",
          "text": [
            "Selecione uma opção:\n",
            " 1-CEP \n",
            " 2-nome do logradouro1\n",
            "Digite o seu cep:30360500\n",
            "Rua Terra - Santa Lúcia , Belo Horizonte - MG , 30360-500\n"
          ]
        }
      ],
      "source": [
        "import requests\n",
        "\n",
        "def get_cep():\n",
        "  opcao = int(input('Selecione uma opção:\\n 1-CEP \\n 2-nome do logradouro'))\n",
        "\n",
        "  if opcao == 1:\n",
        "    cep = input('Digite o seu cep:')\n",
        "    urlC = f\"https://viacep.com.br/ws/{cep}/json/\"\n",
        "    resposta = requests.get(urlC)\n",
        "    endereco = resposta.json()['logradouro']\n",
        "    bairro = resposta.json()['bairro']\n",
        "    cidade = resposta.json()['localidade']\n",
        "    uf = resposta.json()['uf']\n",
        "    format_cep = '{}-{}'.format(cep[:5], cep[5:])\n",
        "    print(endereco,'-',bairro,',',cidade,'-',uf,',',format_cep)\n",
        "\n",
        "  elif opcao == 2:\n",
        "    uf = input('Digite o UF:')\n",
        "    cidade = input('Digite a cidade:')\n",
        "    logradouro = input('Digite o logradouro:')\n",
        "    ulrL = f\"https://viacep.com.br/ws/{uf}/{cidade}/{logradouro}/json/\"\n",
        "    resposta = requests.get(ulrL)\n",
        "    bairro = resposta.json()[0]['bairro']\n",
        "    cep = resposta.json()[0]['cep']\n",
        "    print(logradouro,'-',bairro,',',cidade,'-',uf,',',cep)\n",
        "get_cep()\n",
        "\n",
        "\n",
        "  \n",
        "\n"
      ]
    }
  ]
}